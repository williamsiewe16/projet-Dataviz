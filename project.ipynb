{
 "cells": [
  {
   "cell_type": "code",
   "execution_count": 1,
   "source": [
    "import numpy as np\n",
    "import pandas as pd\n",
    "import matplotlib.pyplot as plt\n",
    "import seaborn as sns\n",
    "import streamlit as st\n",
    "import sweetviz as sv"
   ],
   "outputs": [],
   "metadata": {}
  },
  {
   "cell_type": "markdown",
   "source": [
    "# Load the data"
   ],
   "metadata": {}
  },
  {
   "cell_type": "code",
   "execution_count": 3,
   "source": [
    "year = 2020\n",
    "df = pd.read_csv(f\"dataset/min_{year}.csv\")"
   ],
   "outputs": [
    {
     "output_type": "stream",
     "name": "stderr",
     "text": [
      "/home/siewe/.local/lib/python3.8/site-packages/IPython/core/interactiveshell.py:3441: DtypeWarning: Columns (18,19,21,23) have mixed types.Specify dtype option on import or set low_memory=False.\n",
      "  exec(code_obj, self.user_global_ns, self.user_ns)\n"
     ]
    }
   ],
   "metadata": {}
  },
  {
   "cell_type": "code",
   "execution_count": null,
   "source": [],
   "outputs": [],
   "metadata": {}
  },
  {
   "cell_type": "markdown",
   "source": [
    "# Data preprocessing"
   ],
   "metadata": {}
  },
  {
   "cell_type": "code",
   "execution_count": 4,
   "source": [
    "df.shape"
   ],
   "outputs": [
    {
     "output_type": "execute_result",
     "data": {
      "text/plain": [
       "(200000, 41)"
      ]
     },
     "metadata": {},
     "execution_count": 4
    }
   ],
   "metadata": {}
  },
  {
   "cell_type": "code",
   "execution_count": 5,
   "source": [
    "df.head()"
   ],
   "outputs": [
    {
     "output_type": "execute_result",
     "data": {
      "text/html": [
       "<div>\n",
       "<style scoped>\n",
       "    .dataframe tbody tr th:only-of-type {\n",
       "        vertical-align: middle;\n",
       "    }\n",
       "\n",
       "    .dataframe tbody tr th {\n",
       "        vertical-align: top;\n",
       "    }\n",
       "\n",
       "    .dataframe thead th {\n",
       "        text-align: right;\n",
       "    }\n",
       "</style>\n",
       "<table border=\"1\" class=\"dataframe\">\n",
       "  <thead>\n",
       "    <tr style=\"text-align: right;\">\n",
       "      <th></th>\n",
       "      <th>Unnamed: 0</th>\n",
       "      <th>id_mutation</th>\n",
       "      <th>date_mutation</th>\n",
       "      <th>numero_disposition</th>\n",
       "      <th>nature_mutation</th>\n",
       "      <th>valeur_fonciere</th>\n",
       "      <th>adresse_numero</th>\n",
       "      <th>adresse_suffixe</th>\n",
       "      <th>adresse_nom_voie</th>\n",
       "      <th>adresse_code_voie</th>\n",
       "      <th>...</th>\n",
       "      <th>type_local</th>\n",
       "      <th>surface_reelle_bati</th>\n",
       "      <th>nombre_pieces_principales</th>\n",
       "      <th>code_nature_culture</th>\n",
       "      <th>nature_culture</th>\n",
       "      <th>code_nature_culture_speciale</th>\n",
       "      <th>nature_culture_speciale</th>\n",
       "      <th>surface_terrain</th>\n",
       "      <th>longitude</th>\n",
       "      <th>latitude</th>\n",
       "    </tr>\n",
       "  </thead>\n",
       "  <tbody>\n",
       "    <tr>\n",
       "      <th>0</th>\n",
       "      <td>0</td>\n",
       "      <td>2020-1</td>\n",
       "      <td>2020-01-07</td>\n",
       "      <td>1</td>\n",
       "      <td>Vente</td>\n",
       "      <td>8000.0</td>\n",
       "      <td>NaN</td>\n",
       "      <td>NaN</td>\n",
       "      <td>FORTUNAT</td>\n",
       "      <td>B063</td>\n",
       "      <td>...</td>\n",
       "      <td>NaN</td>\n",
       "      <td>NaN</td>\n",
       "      <td>NaN</td>\n",
       "      <td>T</td>\n",
       "      <td>terres</td>\n",
       "      <td>NaN</td>\n",
       "      <td>NaN</td>\n",
       "      <td>1061.0</td>\n",
       "      <td>5.323540</td>\n",
       "      <td>46.171919</td>\n",
       "    </tr>\n",
       "    <tr>\n",
       "      <th>1</th>\n",
       "      <td>1</td>\n",
       "      <td>2020-2</td>\n",
       "      <td>2020-01-02</td>\n",
       "      <td>1</td>\n",
       "      <td>Vente</td>\n",
       "      <td>2175.0</td>\n",
       "      <td>NaN</td>\n",
       "      <td>NaN</td>\n",
       "      <td>TERRES DES CINQ SAULES</td>\n",
       "      <td>B124</td>\n",
       "      <td>...</td>\n",
       "      <td>NaN</td>\n",
       "      <td>NaN</td>\n",
       "      <td>NaN</td>\n",
       "      <td>BT</td>\n",
       "      <td>taillis simples</td>\n",
       "      <td>NaN</td>\n",
       "      <td>NaN</td>\n",
       "      <td>85.0</td>\n",
       "      <td>4.893436</td>\n",
       "      <td>46.251868</td>\n",
       "    </tr>\n",
       "    <tr>\n",
       "      <th>2</th>\n",
       "      <td>2</td>\n",
       "      <td>2020-2</td>\n",
       "      <td>2020-01-02</td>\n",
       "      <td>1</td>\n",
       "      <td>Vente</td>\n",
       "      <td>2175.0</td>\n",
       "      <td>NaN</td>\n",
       "      <td>NaN</td>\n",
       "      <td>BOIS DU CHAMP RION</td>\n",
       "      <td>B006</td>\n",
       "      <td>...</td>\n",
       "      <td>NaN</td>\n",
       "      <td>NaN</td>\n",
       "      <td>NaN</td>\n",
       "      <td>T</td>\n",
       "      <td>terres</td>\n",
       "      <td>NaN</td>\n",
       "      <td>NaN</td>\n",
       "      <td>1115.0</td>\n",
       "      <td>4.899919</td>\n",
       "      <td>46.235327</td>\n",
       "    </tr>\n",
       "    <tr>\n",
       "      <th>3</th>\n",
       "      <td>3</td>\n",
       "      <td>2020-2</td>\n",
       "      <td>2020-01-02</td>\n",
       "      <td>1</td>\n",
       "      <td>Vente</td>\n",
       "      <td>2175.0</td>\n",
       "      <td>NaN</td>\n",
       "      <td>NaN</td>\n",
       "      <td>EN COROBERT</td>\n",
       "      <td>B025</td>\n",
       "      <td>...</td>\n",
       "      <td>NaN</td>\n",
       "      <td>NaN</td>\n",
       "      <td>NaN</td>\n",
       "      <td>T</td>\n",
       "      <td>terres</td>\n",
       "      <td>NaN</td>\n",
       "      <td>NaN</td>\n",
       "      <td>1940.0</td>\n",
       "      <td>4.882347</td>\n",
       "      <td>46.246519</td>\n",
       "    </tr>\n",
       "    <tr>\n",
       "      <th>4</th>\n",
       "      <td>4</td>\n",
       "      <td>2020-2</td>\n",
       "      <td>2020-01-02</td>\n",
       "      <td>1</td>\n",
       "      <td>Vente</td>\n",
       "      <td>2175.0</td>\n",
       "      <td>NaN</td>\n",
       "      <td>NaN</td>\n",
       "      <td>TERRES DES CINQ SAULES</td>\n",
       "      <td>B124</td>\n",
       "      <td>...</td>\n",
       "      <td>NaN</td>\n",
       "      <td>NaN</td>\n",
       "      <td>NaN</td>\n",
       "      <td>T</td>\n",
       "      <td>terres</td>\n",
       "      <td>NaN</td>\n",
       "      <td>NaN</td>\n",
       "      <td>1148.0</td>\n",
       "      <td>4.894688</td>\n",
       "      <td>46.251820</td>\n",
       "    </tr>\n",
       "  </tbody>\n",
       "</table>\n",
       "<p>5 rows × 41 columns</p>\n",
       "</div>"
      ],
      "text/plain": [
       "   Unnamed: 0 id_mutation date_mutation  numero_disposition nature_mutation  \\\n",
       "0           0      2020-1    2020-01-07                   1           Vente   \n",
       "1           1      2020-2    2020-01-02                   1           Vente   \n",
       "2           2      2020-2    2020-01-02                   1           Vente   \n",
       "3           3      2020-2    2020-01-02                   1           Vente   \n",
       "4           4      2020-2    2020-01-02                   1           Vente   \n",
       "\n",
       "   valeur_fonciere  adresse_numero adresse_suffixe        adresse_nom_voie  \\\n",
       "0           8000.0             NaN             NaN                FORTUNAT   \n",
       "1           2175.0             NaN             NaN  TERRES DES CINQ SAULES   \n",
       "2           2175.0             NaN             NaN      BOIS DU CHAMP RION   \n",
       "3           2175.0             NaN             NaN             EN COROBERT   \n",
       "4           2175.0             NaN             NaN  TERRES DES CINQ SAULES   \n",
       "\n",
       "  adresse_code_voie  ...  type_local  surface_reelle_bati  \\\n",
       "0              B063  ...         NaN                  NaN   \n",
       "1              B124  ...         NaN                  NaN   \n",
       "2              B006  ...         NaN                  NaN   \n",
       "3              B025  ...         NaN                  NaN   \n",
       "4              B124  ...         NaN                  NaN   \n",
       "\n",
       "  nombre_pieces_principales  code_nature_culture   nature_culture  \\\n",
       "0                       NaN                    T           terres   \n",
       "1                       NaN                   BT  taillis simples   \n",
       "2                       NaN                    T           terres   \n",
       "3                       NaN                    T           terres   \n",
       "4                       NaN                    T           terres   \n",
       "\n",
       "   code_nature_culture_speciale nature_culture_speciale  surface_terrain  \\\n",
       "0                           NaN                     NaN           1061.0   \n",
       "1                           NaN                     NaN             85.0   \n",
       "2                           NaN                     NaN           1115.0   \n",
       "3                           NaN                     NaN           1940.0   \n",
       "4                           NaN                     NaN           1148.0   \n",
       "\n",
       "  longitude   latitude  \n",
       "0  5.323540  46.171919  \n",
       "1  4.893436  46.251868  \n",
       "2  4.899919  46.235327  \n",
       "3  4.882347  46.246519  \n",
       "4  4.894688  46.251820  \n",
       "\n",
       "[5 rows x 41 columns]"
      ]
     },
     "metadata": {},
     "execution_count": 5
    }
   ],
   "metadata": {}
  },
  {
   "cell_type": "code",
   "execution_count": 6,
   "source": [
    "df.nature_culture_speciale.value_counts()"
   ],
   "outputs": [
    {
     "output_type": "execute_result",
     "data": {
      "text/plain": [
       "Jardin potager                            1151\n",
       "Pâture plantée                             923\n",
       "Oliveraie ou oliviers                      609\n",
       "Châtaigneraie                              539\n",
       "Friche                                     531\n",
       "Pins                                       444\n",
       "Terrain vague                              398\n",
       "Sapins ou sapinière                        338\n",
       "Vins d'appellation d'origine contrôlée     270\n",
       "Chemin (non groupe)                        252\n",
       "Parc                                       167\n",
       "Etangs                                     163\n",
       "Pré marais                                 142\n",
       "Rue                                        133\n",
       "Chênes                                     130\n",
       "Jardin d'agrément                          130\n",
       "Acacias                                     71\n",
       "Jardin maraîcher non aménagé                69\n",
       "Jardin floral                               60\n",
       "Mare                                        52\n",
       "Canal                                       47\n",
       "Terrain de sport                            37\n",
       "Mélèzes                                     32\n",
       "Hêtres                                      27\n",
       "Chemin de fer                               27\n",
       "Dépendances d'ensemble immobilier           25\n",
       "Pépinières                                  24\n",
       "Vins délimités de qualité supérieure        23\n",
       "Terrain de camping                          18\n",
       "Broussailles ou buissons                    18\n",
       "Pacage                                      16\n",
       "Citronniers                                 15\n",
       "Lac                                         13\n",
       "Epicéas                                      8\n",
       "Rocs ou rochers                              8\n",
       "Bief                                         6\n",
       "Noyeraie ou noyers                           6\n",
       "Légumière de plein champ                     5\n",
       "Fosse                                        5\n",
       "Abricotiers                                  4\n",
       "Ballastière                                  4\n",
       "Saulaie ou saussaie                          4\n",
       "Boulaie                                      3\n",
       "Chênes -truffiers                            2\n",
       "Résineux                                     2\n",
       "Jardin horticole                             2\n",
       "Sablière                                     2\n",
       "Cerisaie ou cerisiers                        2\n",
       "Chênes -verts                                1\n",
       "Raisin de table                              1\n",
       "Serre                                        1\n",
       "Eucalyptus                                   1\n",
       "Aulnaie                                      1\n",
       "Crayère                                      1\n",
       "Pièce d'eau                                  1\n",
       "Poiriers                                     1\n",
       "Name: nature_culture_speciale, dtype: int64"
      ]
     },
     "metadata": {},
     "execution_count": 6
    }
   ],
   "metadata": {}
  },
  {
   "cell_type": "code",
   "execution_count": 7,
   "source": [
    "df.adresse_code_voie=df.adresse_code_voie.astype(str)\n",
    "df.code_commune=df.code_commune.astype(str)\n",
    "df.code_departement=df.code_departement.astype(str)\n",
    "df.numero_volume=df.numero_volume.astype(str)\n",
    "df.lot1_numero=df.lot1_numero.astype(str)\n",
    "df.lot2_numero=df.lot2_numero.astype(str)\n",
    "df.lot3_numero=df.lot3_numero.astype(str)\n",
    "df.lot4_numero=df.lot4_numero.astype(str)\n",
    "df.lot5_numero=df.lot5_numero.astype(str)\n",
    "df.date_mutation = pd.to_datetime(df.date_mutation)"
   ],
   "outputs": [],
   "metadata": {}
  },
  {
   "cell_type": "code",
   "execution_count": 8,
   "source": [
    "df.index = df.date_mutation"
   ],
   "outputs": [],
   "metadata": {}
  },
  {
   "cell_type": "code",
   "execution_count": 9,
   "source": [
    "m=12\n",
    "i = df[[\"valeur_fonciere\",\"latitude\",\"longitude\"]]\n",
    "i = i.loc[f\"2020-{m}\",:]\n",
    "i[~(i.latitude.isna() & i.longitude.isna())][[\"latitude\",\"longitude\"]]"
   ],
   "outputs": [
    {
     "output_type": "execute_result",
     "data": {
      "text/html": [
       "<div>\n",
       "<style scoped>\n",
       "    .dataframe tbody tr th:only-of-type {\n",
       "        vertical-align: middle;\n",
       "    }\n",
       "\n",
       "    .dataframe tbody tr th {\n",
       "        vertical-align: top;\n",
       "    }\n",
       "\n",
       "    .dataframe thead th {\n",
       "        text-align: right;\n",
       "    }\n",
       "</style>\n",
       "<table border=\"1\" class=\"dataframe\">\n",
       "  <thead>\n",
       "    <tr style=\"text-align: right;\">\n",
       "      <th></th>\n",
       "      <th>latitude</th>\n",
       "      <th>longitude</th>\n",
       "    </tr>\n",
       "    <tr>\n",
       "      <th>date_mutation</th>\n",
       "      <th></th>\n",
       "      <th></th>\n",
       "    </tr>\n",
       "  </thead>\n",
       "  <tbody>\n",
       "    <tr>\n",
       "      <th>2020-12-02</th>\n",
       "      <td>46.349690</td>\n",
       "      <td>6.133268</td>\n",
       "    </tr>\n",
       "    <tr>\n",
       "      <th>2020-12-02</th>\n",
       "      <td>46.178537</td>\n",
       "      <td>5.738449</td>\n",
       "    </tr>\n",
       "    <tr>\n",
       "      <th>2020-12-07</th>\n",
       "      <td>45.803695</td>\n",
       "      <td>5.445676</td>\n",
       "    </tr>\n",
       "    <tr>\n",
       "      <th>2020-12-02</th>\n",
       "      <td>46.370306</td>\n",
       "      <td>6.150213</td>\n",
       "    </tr>\n",
       "    <tr>\n",
       "      <th>2020-12-02</th>\n",
       "      <td>46.370306</td>\n",
       "      <td>6.150213</td>\n",
       "    </tr>\n",
       "    <tr>\n",
       "      <th>...</th>\n",
       "      <td>...</td>\n",
       "      <td>...</td>\n",
       "    </tr>\n",
       "    <tr>\n",
       "      <th>2020-12-23</th>\n",
       "      <td>48.296395</td>\n",
       "      <td>4.075056</td>\n",
       "    </tr>\n",
       "    <tr>\n",
       "      <th>2020-12-11</th>\n",
       "      <td>48.491434</td>\n",
       "      <td>3.496267</td>\n",
       "    </tr>\n",
       "    <tr>\n",
       "      <th>2020-12-11</th>\n",
       "      <td>48.491434</td>\n",
       "      <td>3.496267</td>\n",
       "    </tr>\n",
       "    <tr>\n",
       "      <th>2020-12-11</th>\n",
       "      <td>48.491434</td>\n",
       "      <td>3.496267</td>\n",
       "    </tr>\n",
       "    <tr>\n",
       "      <th>2020-12-11</th>\n",
       "      <td>48.491434</td>\n",
       "      <td>3.496267</td>\n",
       "    </tr>\n",
       "  </tbody>\n",
       "</table>\n",
       "<p>13265 rows × 2 columns</p>\n",
       "</div>"
      ],
      "text/plain": [
       "                latitude  longitude\n",
       "date_mutation                      \n",
       "2020-12-02     46.349690   6.133268\n",
       "2020-12-02     46.178537   5.738449\n",
       "2020-12-07     45.803695   5.445676\n",
       "2020-12-02     46.370306   6.150213\n",
       "2020-12-02     46.370306   6.150213\n",
       "...                  ...        ...\n",
       "2020-12-23     48.296395   4.075056\n",
       "2020-12-11     48.491434   3.496267\n",
       "2020-12-11     48.491434   3.496267\n",
       "2020-12-11     48.491434   3.496267\n",
       "2020-12-11     48.491434   3.496267\n",
       "\n",
       "[13265 rows x 2 columns]"
      ]
     },
     "metadata": {},
     "execution_count": 9
    }
   ],
   "metadata": {}
  },
  {
   "cell_type": "code",
   "execution_count": 10,
   "source": [
    "df.loc[:,\"valeur_fonciere\"].resample(\"M\").mean().plot()"
   ],
   "outputs": [
    {
     "output_type": "execute_result",
     "data": {
      "text/plain": [
       "<AxesSubplot:xlabel='date_mutation'>"
      ]
     },
     "metadata": {},
     "execution_count": 10
    },
    {
     "output_type": "display_data",
     "data": {
      "image/png": "[encoded data removed]",
      "text/plain": [
       "<Figure size 432x288 with 1 Axes>"
      ]
     },
     "metadata": {
      "needs_background": "light"
     }
    }
   ],
   "metadata": {}
  },
  {
   "cell_type": "code",
   "execution_count": 10,
   "source": [
    "sv_report = sv.analyze(df)\n",
    "sv_report.show_html()"
   ],
   "outputs": [
    {
     "output_type": "stream",
     "name": "stderr",
     "text": [
      "Done! Use 'show' commands to display/save.   |██████████| [100%]   00:01 -> (00:00 left)\n"
     ]
    },
    {
     "output_type": "stream",
     "name": "stdout",
     "text": [
      "Report SWEETVIZ_REPORT.html was generated! NOTEBOOK/COLAB USERS: the web browser MAY not pop up, regardless, the report IS saved in your notebook/colab files.\n"
     ]
    }
   ],
   "metadata": {}
  },
  {
   "cell_type": "code",
   "execution_count": 11,
   "source": [
    "df.code_type_local.value_counts()"
   ],
   "outputs": [
    {
     "output_type": "execute_result",
     "data": {
      "text/plain": [
       "1.0    528257\n",
       "2.0    402271\n",
       "3.0    298369\n",
       "4.0     86937\n",
       "Name: code_type_local, dtype: int64"
      ]
     },
     "metadata": {},
     "execution_count": 11
    }
   ],
   "metadata": {}
  },
  {
   "cell_type": "code",
   "execution_count": 12,
   "source": [
    "a=df.count()\n",
    "a[a >= .8*df.shape[0]]"
   ],
   "outputs": [
    {
     "output_type": "execute_result",
     "data": {
      "text/plain": [
       "id_mutation           2459560\n",
       "date_mutation         2459560\n",
       "numero_disposition    2459560\n",
       "nature_mutation       2459560\n",
       "valeur_fonciere       2427808\n",
       "adresse_nom_voie      2428437\n",
       "adresse_code_voie     2459560\n",
       "code_postal           2428568\n",
       "code_commune          2459560\n",
       "nom_commune           2459560\n",
       "code_departement      2459560\n",
       "id_parcelle           2459560\n",
       "numero_volume         2459560\n",
       "lot1_numero           2459560\n",
       "lot2_numero           2459560\n",
       "lot3_numero           2459560\n",
       "lot4_numero           2459560\n",
       "lot5_numero           2459560\n",
       "nombre_lots           2459560\n",
       "longitude             2429477\n",
       "latitude              2429477\n",
       "dtype: int64"
      ]
     },
     "metadata": {},
     "execution_count": 12
    }
   ],
   "metadata": {}
  },
  {
   "cell_type": "markdown",
   "source": [
    "# Data Visualization"
   ],
   "metadata": {}
  },
  {
   "cell_type": "code",
   "execution_count": 13,
   "source": [
    "# Communes with the highest number of transactions\n",
    "a = df[[\"id_mutation\", \"nom_commune\"]].groupby(\"nom_commune\").count()"
   ],
   "outputs": [],
   "metadata": {}
  },
  {
   "cell_type": "code",
   "execution_count": 14,
   "source": [
    "a= a.sort_values(by=\"id_mutation\", ascending=False)[:15]\n",
    "a = pd.DataFrame({\"nom_commune\": a.index.values, \"id_mutation\": a.id_mutation.values})\n",
    "a"
   ],
   "outputs": [
    {
     "output_type": "execute_result",
     "data": {
      "text/html": [
       "<div>\n",
       "<style scoped>\n",
       "    .dataframe tbody tr th:only-of-type {\n",
       "        vertical-align: middle;\n",
       "    }\n",
       "\n",
       "    .dataframe tbody tr th {\n",
       "        vertical-align: top;\n",
       "    }\n",
       "\n",
       "    .dataframe thead th {\n",
       "        text-align: right;\n",
       "    }\n",
       "</style>\n",
       "<table border=\"1\" class=\"dataframe\">\n",
       "  <thead>\n",
       "    <tr style=\"text-align: right;\">\n",
       "      <th></th>\n",
       "      <th>nom_commune</th>\n",
       "      <th>id_mutation</th>\n",
       "    </tr>\n",
       "  </thead>\n",
       "  <tbody>\n",
       "    <tr>\n",
       "      <th>0</th>\n",
       "      <td>Nice</td>\n",
       "      <td>17756</td>\n",
       "    </tr>\n",
       "    <tr>\n",
       "      <th>1</th>\n",
       "      <td>Nantes</td>\n",
       "      <td>14715</td>\n",
       "    </tr>\n",
       "    <tr>\n",
       "      <th>2</th>\n",
       "      <td>Bordeaux</td>\n",
       "      <td>12847</td>\n",
       "    </tr>\n",
       "    <tr>\n",
       "      <th>3</th>\n",
       "      <td>Lille</td>\n",
       "      <td>10628</td>\n",
       "    </tr>\n",
       "    <tr>\n",
       "      <th>4</th>\n",
       "      <td>Rennes</td>\n",
       "      <td>9721</td>\n",
       "    </tr>\n",
       "    <tr>\n",
       "      <th>5</th>\n",
       "      <td>Toulouse</td>\n",
       "      <td>8854</td>\n",
       "    </tr>\n",
       "    <tr>\n",
       "      <th>6</th>\n",
       "      <td>Nîmes</td>\n",
       "      <td>8571</td>\n",
       "    </tr>\n",
       "    <tr>\n",
       "      <th>7</th>\n",
       "      <td>Saint-Étienne</td>\n",
       "      <td>7400</td>\n",
       "    </tr>\n",
       "    <tr>\n",
       "      <th>8</th>\n",
       "      <td>Reims</td>\n",
       "      <td>7110</td>\n",
       "    </tr>\n",
       "    <tr>\n",
       "      <th>9</th>\n",
       "      <td>Angers</td>\n",
       "      <td>6642</td>\n",
       "    </tr>\n",
       "    <tr>\n",
       "      <th>10</th>\n",
       "      <td>Nancy</td>\n",
       "      <td>6502</td>\n",
       "    </tr>\n",
       "    <tr>\n",
       "      <th>11</th>\n",
       "      <td>Le Havre</td>\n",
       "      <td>6490</td>\n",
       "    </tr>\n",
       "    <tr>\n",
       "      <th>12</th>\n",
       "      <td>Le Mans</td>\n",
       "      <td>6355</td>\n",
       "    </tr>\n",
       "    <tr>\n",
       "      <th>13</th>\n",
       "      <td>Paris 16e Arrondissement</td>\n",
       "      <td>5408</td>\n",
       "    </tr>\n",
       "    <tr>\n",
       "      <th>14</th>\n",
       "      <td>Limoges</td>\n",
       "      <td>5292</td>\n",
       "    </tr>\n",
       "  </tbody>\n",
       "</table>\n",
       "</div>"
      ],
      "text/plain": [
       "                 nom_commune  id_mutation\n",
       "0                       Nice        17756\n",
       "1                     Nantes        14715\n",
       "2                   Bordeaux        12847\n",
       "3                      Lille        10628\n",
       "4                     Rennes         9721\n",
       "5                   Toulouse         8854\n",
       "6                      Nîmes         8571\n",
       "7              Saint-Étienne         7400\n",
       "8                      Reims         7110\n",
       "9                     Angers         6642\n",
       "10                     Nancy         6502\n",
       "11                  Le Havre         6490\n",
       "12                   Le Mans         6355\n",
       "13  Paris 16e Arrondissement         5408\n",
       "14                   Limoges         5292"
      ]
     },
     "metadata": {},
     "execution_count": 14
    }
   ],
   "metadata": {}
  },
  {
   "cell_type": "code",
   "execution_count": 15,
   "source": [
    "a = df[[\"latitude\",\"longitude\"]]\n",
    "a[~(a.latitude.isna() & a.longitude.isna())]"
   ],
   "outputs": [
    {
     "output_type": "execute_result",
     "data": {
      "text/html": [
       "<div>\n",
       "<style scoped>\n",
       "    .dataframe tbody tr th:only-of-type {\n",
       "        vertical-align: middle;\n",
       "    }\n",
       "\n",
       "    .dataframe tbody tr th {\n",
       "        vertical-align: top;\n",
       "    }\n",
       "\n",
       "    .dataframe thead th {\n",
       "        text-align: right;\n",
       "    }\n",
       "</style>\n",
       "<table border=\"1\" class=\"dataframe\">\n",
       "  <thead>\n",
       "    <tr style=\"text-align: right;\">\n",
       "      <th></th>\n",
       "      <th>latitude</th>\n",
       "      <th>longitude</th>\n",
       "    </tr>\n",
       "    <tr>\n",
       "      <th>date_mutation</th>\n",
       "      <th></th>\n",
       "      <th></th>\n",
       "    </tr>\n",
       "  </thead>\n",
       "  <tbody>\n",
       "    <tr>\n",
       "      <th>2020-01-07</th>\n",
       "      <td>46.171919</td>\n",
       "      <td>5.323540</td>\n",
       "    </tr>\n",
       "    <tr>\n",
       "      <th>2020-01-02</th>\n",
       "      <td>46.251868</td>\n",
       "      <td>4.893436</td>\n",
       "    </tr>\n",
       "    <tr>\n",
       "      <th>2020-01-02</th>\n",
       "      <td>46.235327</td>\n",
       "      <td>4.899919</td>\n",
       "    </tr>\n",
       "    <tr>\n",
       "      <th>2020-01-02</th>\n",
       "      <td>46.246519</td>\n",
       "      <td>4.882347</td>\n",
       "    </tr>\n",
       "    <tr>\n",
       "      <th>2020-01-02</th>\n",
       "      <td>46.251820</td>\n",
       "      <td>4.894688</td>\n",
       "    </tr>\n",
       "    <tr>\n",
       "      <th>...</th>\n",
       "      <td>...</td>\n",
       "      <td>...</td>\n",
       "    </tr>\n",
       "    <tr>\n",
       "      <th>2020-12-16</th>\n",
       "      <td>48.854293</td>\n",
       "      <td>2.350481</td>\n",
       "    </tr>\n",
       "    <tr>\n",
       "      <th>2020-12-16</th>\n",
       "      <td>48.854293</td>\n",
       "      <td>2.350481</td>\n",
       "    </tr>\n",
       "    <tr>\n",
       "      <th>2020-12-16</th>\n",
       "      <td>48.854293</td>\n",
       "      <td>2.350481</td>\n",
       "    </tr>\n",
       "    <tr>\n",
       "      <th>2020-12-16</th>\n",
       "      <td>48.854293</td>\n",
       "      <td>2.350481</td>\n",
       "    </tr>\n",
       "    <tr>\n",
       "      <th>2020-10-08</th>\n",
       "      <td>48.865935</td>\n",
       "      <td>2.348149</td>\n",
       "    </tr>\n",
       "  </tbody>\n",
       "</table>\n",
       "<p>2429477 rows × 2 columns</p>\n",
       "</div>"
      ],
      "text/plain": [
       "                latitude  longitude\n",
       "date_mutation                      \n",
       "2020-01-07     46.171919   5.323540\n",
       "2020-01-02     46.251868   4.893436\n",
       "2020-01-02     46.235327   4.899919\n",
       "2020-01-02     46.246519   4.882347\n",
       "2020-01-02     46.251820   4.894688\n",
       "...                  ...        ...\n",
       "2020-12-16     48.854293   2.350481\n",
       "2020-12-16     48.854293   2.350481\n",
       "2020-12-16     48.854293   2.350481\n",
       "2020-12-16     48.854293   2.350481\n",
       "2020-10-08     48.865935   2.348149\n",
       "\n",
       "[2429477 rows x 2 columns]"
      ]
     },
     "metadata": {},
     "execution_count": 15
    }
   ],
   "metadata": {}
  },
  {
   "cell_type": "markdown",
   "source": [
    "# Performing cross analysis"
   ],
   "metadata": {}
  },
  {
   "cell_type": "code",
   "execution_count": 80,
   "source": [
    "data = df.loc[:,\"valeur_fonciere\"].resample(\"M\").mean()\n",
    "b = pd.DataFrame({\"valeurs\": data.values, \"mois\": data.index.month})\n",
    "b"
   ],
   "outputs": [
    {
     "output_type": "execute_result",
     "data": {
      "text/html": [
       "<div>\n",
       "<style scoped>\n",
       "    .dataframe tbody tr th:only-of-type {\n",
       "        vertical-align: middle;\n",
       "    }\n",
       "\n",
       "    .dataframe tbody tr th {\n",
       "        vertical-align: top;\n",
       "    }\n",
       "\n",
       "    .dataframe thead th {\n",
       "        text-align: right;\n",
       "    }\n",
       "</style>\n",
       "<table border=\"1\" class=\"dataframe\">\n",
       "  <thead>\n",
       "    <tr style=\"text-align: right;\">\n",
       "      <th></th>\n",
       "      <th>valeurs</th>\n",
       "      <th>mois</th>\n",
       "    </tr>\n",
       "  </thead>\n",
       "  <tbody>\n",
       "    <tr>\n",
       "      <th>0</th>\n",
       "      <td>2.415084e+05</td>\n",
       "      <td>1</td>\n",
       "    </tr>\n",
       "    <tr>\n",
       "      <th>1</th>\n",
       "      <td>3.034519e+05</td>\n",
       "      <td>2</td>\n",
       "    </tr>\n",
       "    <tr>\n",
       "      <th>2</th>\n",
       "      <td>5.730814e+05</td>\n",
       "      <td>3</td>\n",
       "    </tr>\n",
       "    <tr>\n",
       "      <th>3</th>\n",
       "      <td>2.359834e+05</td>\n",
       "      <td>4</td>\n",
       "    </tr>\n",
       "    <tr>\n",
       "      <th>4</th>\n",
       "      <td>2.129781e+05</td>\n",
       "      <td>5</td>\n",
       "    </tr>\n",
       "    <tr>\n",
       "      <th>5</th>\n",
       "      <td>7.033261e+05</td>\n",
       "      <td>6</td>\n",
       "    </tr>\n",
       "    <tr>\n",
       "      <th>6</th>\n",
       "      <td>6.009230e+05</td>\n",
       "      <td>7</td>\n",
       "    </tr>\n",
       "    <tr>\n",
       "      <th>7</th>\n",
       "      <td>2.379050e+05</td>\n",
       "      <td>8</td>\n",
       "    </tr>\n",
       "    <tr>\n",
       "      <th>8</th>\n",
       "      <td>2.617223e+05</td>\n",
       "      <td>9</td>\n",
       "    </tr>\n",
       "    <tr>\n",
       "      <th>9</th>\n",
       "      <td>3.749722e+05</td>\n",
       "      <td>10</td>\n",
       "    </tr>\n",
       "    <tr>\n",
       "      <th>10</th>\n",
       "      <td>2.523447e+05</td>\n",
       "      <td>11</td>\n",
       "    </tr>\n",
       "    <tr>\n",
       "      <th>11</th>\n",
       "      <td>2.030911e+06</td>\n",
       "      <td>12</td>\n",
       "    </tr>\n",
       "  </tbody>\n",
       "</table>\n",
       "</div>"
      ],
      "text/plain": [
       "         valeurs  mois\n",
       "0   2.415084e+05     1\n",
       "1   3.034519e+05     2\n",
       "2   5.730814e+05     3\n",
       "3   2.359834e+05     4\n",
       "4   2.129781e+05     5\n",
       "5   7.033261e+05     6\n",
       "6   6.009230e+05     7\n",
       "7   2.379050e+05     8\n",
       "8   2.617223e+05     9\n",
       "9   3.749722e+05    10\n",
       "10  2.523447e+05    11\n",
       "11  2.030911e+06    12"
      ]
     },
     "metadata": {},
     "execution_count": 80
    }
   ],
   "metadata": {}
  },
  {
   "cell_type": "code",
   "execution_count": 82,
   "source": [
    "fig, ax= plt.subplots(figsize=(10,6))\n",
    "ax = sns.barplot(data=b, x=\"mois\", y=\"valeurs\")\n",
    "ax.set_xticklabels('Jan Fev Mar Apr May Jun Jul Aug Sep Oct Nov Dec'.split())\n",
    "ax.set_xticks(np.arange(12))"
   ],
   "outputs": [
    {
     "output_type": "execute_result",
     "data": {
      "text/plain": [
       "[<matplotlib.axis.XTick at 0x7f213e1e8c10>,\n",
       " <matplotlib.axis.XTick at 0x7f213e1e8be0>,\n",
       " <matplotlib.axis.XTick at 0x7f213e1e8dc0>,\n",
       " <matplotlib.axis.XTick at 0x7f213c23dcd0>,\n",
       " <matplotlib.axis.XTick at 0x7f213c1c4d00>,\n",
       " <matplotlib.axis.XTick at 0x7f213c1c4b50>,\n",
       " <matplotlib.axis.XTick at 0x7f213c1c40a0>,\n",
       " <matplotlib.axis.XTick at 0x7f213c2a80d0>,\n",
       " <matplotlib.axis.XTick at 0x7f213c2a8040>,\n",
       " <matplotlib.axis.XTick at 0x7f213c07f4c0>,\n",
       " <matplotlib.axis.XTick at 0x7f213c120580>,\n",
       " <matplotlib.axis.XTick at 0x7f213c116310>]"
      ]
     },
     "metadata": {},
     "execution_count": 82
    },
    {
     "output_type": "display_data",
     "data": {
      "image/png": "[encoded data removed]",
      "text/plain": [
       "<Figure size 720x432 with 1 Axes>"
      ]
     },
     "metadata": {
      "needs_background": "light"
     }
    }
   ],
   "metadata": {}
  },
  {
   "cell_type": "code",
   "execution_count": 86,
   "source": [
    "df2017 = pd.read_csv(\"dataset/min_2017.csv\")\n",
    "df2018 = pd.read_csv(\"dataset/min_2018.csv\")"
   ],
   "outputs": [
    {
     "output_type": "stream",
     "name": "stderr",
     "text": [
      "/home/siewe/.local/lib/python3.8/site-packages/IPython/core/interactiveshell.py:3441: DtypeWarning: Columns (15,17,19,21) have mixed types.Specify dtype option on import or set low_memory=False.\n",
      "  exec(code_obj, self.user_global_ns, self.user_ns)\n",
      "/home/siewe/.local/lib/python3.8/site-packages/IPython/core/interactiveshell.py:3441: DtypeWarning: Columns (15,17,19,21,23) have mixed types.Specify dtype option on import or set low_memory=False.\n",
      "  exec(code_obj, self.user_global_ns, self.user_ns)\n"
     ]
    }
   ],
   "metadata": {}
  },
  {
   "cell_type": "code",
   "execution_count": 102,
   "source": [
    "def preprocess(df_):\n",
    "    df = df_.copy()\n",
    "    df.adresse_code_voie=df.adresse_code_voie.astype(str)\n",
    "    df.code_commune=df.code_commune.astype(str)\n",
    "    df.code_departement=df.code_departement.astype(str)\n",
    "    df.numero_volume=df.numero_volume.astype(str)\n",
    "    df.lot1_numero=df.lot1_numero.astype(str)\n",
    "    df.lot2_numero=df.lot2_numero.astype(str)\n",
    "    df.lot3_numero=df.lot3_numero.astype(str)\n",
    "    df.lot4_numero=df.lot4_numero.astype(str)\n",
    "    df.lot5_numero=df.lot5_numero.astype(str)\n",
    "    df.date_mutation=pd.to_datetime(df.date_mutation)\n",
    "    df.index = df.date_mutation\n",
    "    return df\n",
    "\n",
    "def load_data(year):\n",
    "    df = pd.read_csv(f\"dataset/min_{year}.csv\")\n",
    "    return df"
   ],
   "outputs": [],
   "metadata": {}
  },
  {
   "cell_type": "code",
   "execution_count": 103,
   "source": [
    "def cities_biggest_price_increase():\n",
    "    years = []\n",
    "    for i in range(4):\n",
    "        years.append(preprocess(load_data(2020-i)))\n",
    "    return pd.concat(years, axis=0)"
   ],
   "outputs": [],
   "metadata": {}
  },
  {
   "cell_type": "code",
   "execution_count": 105,
   "source": [
    "a = cities_biggest_price_increase()"
   ],
   "outputs": [
    {
     "output_type": "stream",
     "name": "stderr",
     "text": [
      "/tmp/ipykernel_10628/3652150241.py:4: DtypeWarning: Columns (18,19,21,23) have mixed types.Specify dtype option on import or set low_memory=False.\n",
      "  years.append(preprocess(load_data(2020-i)))\n",
      "/tmp/ipykernel_10628/3652150241.py:4: DtypeWarning: Columns (15,17,19,21,23) have mixed types.Specify dtype option on import or set low_memory=False.\n",
      "  years.append(preprocess(load_data(2020-i)))\n",
      "/tmp/ipykernel_10628/3652150241.py:4: DtypeWarning: Columns (15,17,19,21) have mixed types.Specify dtype option on import or set low_memory=False.\n",
      "  years.append(preprocess(load_data(2020-i)))\n"
     ]
    }
   ],
   "metadata": {}
  },
  {
   "cell_type": "code",
   "execution_count": 130,
   "source": [
    "a = a[[\"code_departement\", \"valeur_fonciere\"]].groupby(\"code_departement\").max()-a[[\"code_departement\", \"valeur_fonciere\"]].groupby(\"code_departement\").min()\n",
    "a[\"code\"] = a.index"
   ],
   "outputs": [],
   "metadata": {}
  },
  {
   "cell_type": "code",
   "execution_count": 176,
   "source": [
    "b = df[df.nom_commune == \"Erp\"].type_local.value_counts()\n"
   ],
   "outputs": [],
   "metadata": {}
  },
  {
   "cell_type": "code",
   "execution_count": 177,
   "source": [
    "b"
   ],
   "outputs": [
    {
     "output_type": "execute_result",
     "data": {
      "text/plain": [
       "Maison    4\n",
       "Name: type_local, dtype: int64"
      ]
     },
     "metadata": {},
     "execution_count": 177
    }
   ],
   "metadata": {}
  },
  {
   "cell_type": "code",
   "execution_count": 181,
   "source": [
    "df[\"prix/m^2\"] = df.valeur_fonciere/df.surface_terrain"
   ],
   "outputs": [],
   "metadata": {}
  },
  {
   "cell_type": "code",
   "execution_count": null,
   "source": [],
   "outputs": [],
   "metadata": {}
  }
 ],
 "metadata": {
  "interpreter": {
   "hash": "916dbcbb3f70747c44a77c7bcd40155683ae19c65e1c03b4aa3499c5328201f1"
  },
  "kernelspec": {
   "name": "python3",
   "display_name": "Python 3.8.10 64-bit"
  },
  "language_info": {
   "codemirror_mode": {
    "name": "ipython",
    "version": 3
   },
   "file_extension": ".py",
   "mimetype": "text/x-python",
   "name": "python",
   "nbconvert_exporter": "python",
   "pygments_lexer": "ipython3",
   "version": "3.8.10"
  }
 },
 "nbformat": 4,
 "nbformat_minor": 5
}