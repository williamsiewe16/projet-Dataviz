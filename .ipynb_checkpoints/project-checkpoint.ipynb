{
 "cells": [
  {
   "cell_type": "code",
   "execution_count": 1,
   "id": "b97fed98",
   "metadata": {},
   "outputs": [],
   "source": [
    "import numpy as np\n",
    "import pandas as pd\n",
    "import matplotlib.pyplot as plt\n",
    "import seaborn as sns\n",
    "import streamlit as st\n",
    "import sweetviz as sv"
   ]
  },
  {
   "cell_type": "markdown",
   "id": "283d63c5",
   "metadata": {},
   "source": [
    "# Load the data"
   ]
  },
  {
   "cell_type": "code",
   "execution_count": 2,
   "id": "92ee3a62",
   "metadata": {},
   "outputs": [
    {
     "name": "stderr",
     "output_type": "stream",
     "text": [
      "/home/siewe/.local/lib/python3.8/site-packages/IPython/core/interactiveshell.py:3441: DtypeWarning: Columns (8,10,12,14,16,17,18,20,22,35,36) have mixed types.Specify dtype option on import or set low_memory=False.\n",
      "  exec(code_obj, self.user_global_ns, self.user_ns)\n"
     ]
    }
   ],
   "source": [
    "df = pd.read_csv(\"dataset/full_2020.csv\")"
   ]
  },
  {
   "cell_type": "code",
   "execution_count": 3,
   "id": "4d7e61ec",
   "metadata": {},
   "outputs": [
    {
     "data": {
      "text/plain": [
       "(2459560, 40)"
      ]
     },
     "execution_count": 3,
     "metadata": {},
     "output_type": "execute_result"
    }
   ],
   "source": [
    "df"
   ]
  },
  {
   "cell_type": "markdown",
   "id": "539b9c2c",
   "metadata": {},
   "source": [
    "# Data preprocessing"
   ]
  },
  {
   "cell_type": "code",
   "execution_count": 3,
   "id": "54949ae7",
   "metadata": {},
   "outputs": [
    {
     "data": {
      "text/plain": [
       "(2459560, 40)"
      ]
     },
     "execution_count": 3,
     "metadata": {},
     "output_type": "execute_result"
    }
   ],
   "source": [
    "df.shape"
   ]
  },
  {
   "cell_type": "code",
   "execution_count": 4,
   "id": "70649d8f",
   "metadata": {},
   "outputs": [
    {
     "data": {
      "text/html": [
       "<div>\n",
       "<style scoped>\n",
       "    .dataframe tbody tr th:only-of-type {\n",
       "        vertical-align: middle;\n",
       "    }\n",
       "\n",
       "    .dataframe tbody tr th {\n",
       "        vertical-align: top;\n",
       "    }\n",
       "\n",
       "    .dataframe thead th {\n",
       "        text-align: right;\n",
       "    }\n",
       "</style>\n",
       "<table border=\"1\" class=\"dataframe\">\n",
       "  <thead>\n",
       "    <tr style=\"text-align: right;\">\n",
       "      <th></th>\n",
       "      <th>id_mutation</th>\n",
       "      <th>date_mutation</th>\n",
       "      <th>numero_disposition</th>\n",
       "      <th>nature_mutation</th>\n",
       "      <th>valeur_fonciere</th>\n",
       "      <th>adresse_numero</th>\n",
       "      <th>adresse_suffixe</th>\n",
       "      <th>adresse_nom_voie</th>\n",
       "      <th>adresse_code_voie</th>\n",
       "      <th>code_postal</th>\n",
       "      <th>...</th>\n",
       "      <th>type_local</th>\n",
       "      <th>surface_reelle_bati</th>\n",
       "      <th>nombre_pieces_principales</th>\n",
       "      <th>code_nature_culture</th>\n",
       "      <th>nature_culture</th>\n",
       "      <th>code_nature_culture_speciale</th>\n",
       "      <th>nature_culture_speciale</th>\n",
       "      <th>surface_terrain</th>\n",
       "      <th>longitude</th>\n",
       "      <th>latitude</th>\n",
       "    </tr>\n",
       "  </thead>\n",
       "  <tbody>\n",
       "    <tr>\n",
       "      <th>0</th>\n",
       "      <td>2020-1</td>\n",
       "      <td>2020-01-07</td>\n",
       "      <td>1</td>\n",
       "      <td>Vente</td>\n",
       "      <td>8000.0</td>\n",
       "      <td>NaN</td>\n",
       "      <td>NaN</td>\n",
       "      <td>FORTUNAT</td>\n",
       "      <td>B063</td>\n",
       "      <td>1250.0</td>\n",
       "      <td>...</td>\n",
       "      <td>NaN</td>\n",
       "      <td>NaN</td>\n",
       "      <td>NaN</td>\n",
       "      <td>T</td>\n",
       "      <td>terres</td>\n",
       "      <td>NaN</td>\n",
       "      <td>NaN</td>\n",
       "      <td>1061.0</td>\n",
       "      <td>5.323540</td>\n",
       "      <td>46.171919</td>\n",
       "    </tr>\n",
       "    <tr>\n",
       "      <th>1</th>\n",
       "      <td>2020-2</td>\n",
       "      <td>2020-01-02</td>\n",
       "      <td>1</td>\n",
       "      <td>Vente</td>\n",
       "      <td>2175.0</td>\n",
       "      <td>NaN</td>\n",
       "      <td>NaN</td>\n",
       "      <td>TERRES DES CINQ SAULES</td>\n",
       "      <td>B124</td>\n",
       "      <td>1290.0</td>\n",
       "      <td>...</td>\n",
       "      <td>NaN</td>\n",
       "      <td>NaN</td>\n",
       "      <td>NaN</td>\n",
       "      <td>BT</td>\n",
       "      <td>taillis simples</td>\n",
       "      <td>NaN</td>\n",
       "      <td>NaN</td>\n",
       "      <td>85.0</td>\n",
       "      <td>4.893436</td>\n",
       "      <td>46.251868</td>\n",
       "    </tr>\n",
       "    <tr>\n",
       "      <th>2</th>\n",
       "      <td>2020-2</td>\n",
       "      <td>2020-01-02</td>\n",
       "      <td>1</td>\n",
       "      <td>Vente</td>\n",
       "      <td>2175.0</td>\n",
       "      <td>NaN</td>\n",
       "      <td>NaN</td>\n",
       "      <td>BOIS DU CHAMP RION</td>\n",
       "      <td>B006</td>\n",
       "      <td>1290.0</td>\n",
       "      <td>...</td>\n",
       "      <td>NaN</td>\n",
       "      <td>NaN</td>\n",
       "      <td>NaN</td>\n",
       "      <td>T</td>\n",
       "      <td>terres</td>\n",
       "      <td>NaN</td>\n",
       "      <td>NaN</td>\n",
       "      <td>1115.0</td>\n",
       "      <td>4.899919</td>\n",
       "      <td>46.235327</td>\n",
       "    </tr>\n",
       "    <tr>\n",
       "      <th>3</th>\n",
       "      <td>2020-2</td>\n",
       "      <td>2020-01-02</td>\n",
       "      <td>1</td>\n",
       "      <td>Vente</td>\n",
       "      <td>2175.0</td>\n",
       "      <td>NaN</td>\n",
       "      <td>NaN</td>\n",
       "      <td>EN COROBERT</td>\n",
       "      <td>B025</td>\n",
       "      <td>1290.0</td>\n",
       "      <td>...</td>\n",
       "      <td>NaN</td>\n",
       "      <td>NaN</td>\n",
       "      <td>NaN</td>\n",
       "      <td>T</td>\n",
       "      <td>terres</td>\n",
       "      <td>NaN</td>\n",
       "      <td>NaN</td>\n",
       "      <td>1940.0</td>\n",
       "      <td>4.882347</td>\n",
       "      <td>46.246519</td>\n",
       "    </tr>\n",
       "    <tr>\n",
       "      <th>4</th>\n",
       "      <td>2020-2</td>\n",
       "      <td>2020-01-02</td>\n",
       "      <td>1</td>\n",
       "      <td>Vente</td>\n",
       "      <td>2175.0</td>\n",
       "      <td>NaN</td>\n",
       "      <td>NaN</td>\n",
       "      <td>TERRES DES CINQ SAULES</td>\n",
       "      <td>B124</td>\n",
       "      <td>1290.0</td>\n",
       "      <td>...</td>\n",
       "      <td>NaN</td>\n",
       "      <td>NaN</td>\n",
       "      <td>NaN</td>\n",
       "      <td>T</td>\n",
       "      <td>terres</td>\n",
       "      <td>NaN</td>\n",
       "      <td>NaN</td>\n",
       "      <td>1148.0</td>\n",
       "      <td>4.894688</td>\n",
       "      <td>46.251820</td>\n",
       "    </tr>\n",
       "  </tbody>\n",
       "</table>\n",
       "<p>5 rows × 40 columns</p>\n",
       "</div>"
      ],
      "text/plain": [
       "  id_mutation date_mutation  numero_disposition nature_mutation  \\\n",
       "0      2020-1    2020-01-07                   1           Vente   \n",
       "1      2020-2    2020-01-02                   1           Vente   \n",
       "2      2020-2    2020-01-02                   1           Vente   \n",
       "3      2020-2    2020-01-02                   1           Vente   \n",
       "4      2020-2    2020-01-02                   1           Vente   \n",
       "\n",
       "   valeur_fonciere  adresse_numero adresse_suffixe        adresse_nom_voie  \\\n",
       "0           8000.0             NaN             NaN                FORTUNAT   \n",
       "1           2175.0             NaN             NaN  TERRES DES CINQ SAULES   \n",
       "2           2175.0             NaN             NaN      BOIS DU CHAMP RION   \n",
       "3           2175.0             NaN             NaN             EN COROBERT   \n",
       "4           2175.0             NaN             NaN  TERRES DES CINQ SAULES   \n",
       "\n",
       "  adresse_code_voie  code_postal  ... type_local surface_reelle_bati  \\\n",
       "0              B063       1250.0  ...        NaN                 NaN   \n",
       "1              B124       1290.0  ...        NaN                 NaN   \n",
       "2              B006       1290.0  ...        NaN                 NaN   \n",
       "3              B025       1290.0  ...        NaN                 NaN   \n",
       "4              B124       1290.0  ...        NaN                 NaN   \n",
       "\n",
       "  nombre_pieces_principales  code_nature_culture   nature_culture  \\\n",
       "0                       NaN                    T           terres   \n",
       "1                       NaN                   BT  taillis simples   \n",
       "2                       NaN                    T           terres   \n",
       "3                       NaN                    T           terres   \n",
       "4                       NaN                    T           terres   \n",
       "\n",
       "  code_nature_culture_speciale nature_culture_speciale surface_terrain  \\\n",
       "0                          NaN                     NaN          1061.0   \n",
       "1                          NaN                     NaN            85.0   \n",
       "2                          NaN                     NaN          1115.0   \n",
       "3                          NaN                     NaN          1940.0   \n",
       "4                          NaN                     NaN          1148.0   \n",
       "\n",
       "  longitude   latitude  \n",
       "0  5.323540  46.171919  \n",
       "1  4.893436  46.251868  \n",
       "2  4.899919  46.235327  \n",
       "3  4.882347  46.246519  \n",
       "4  4.894688  46.251820  \n",
       "\n",
       "[5 rows x 40 columns]"
      ]
     },
     "execution_count": 4,
     "metadata": {},
     "output_type": "execute_result"
    }
   ],
   "source": [
    "df.head()"
   ]
  },
  {
   "cell_type": "code",
   "execution_count": 5,
   "id": "a8c0f39d",
   "metadata": {},
   "outputs": [
    {
     "data": {
      "text/plain": [
       "Jardin potager                        28037\n",
       "Pâture plantée                         9387\n",
       "Pins                                   9344\n",
       "Parc                                   9316\n",
       "Friche                                 6132\n",
       "                                      ...  \n",
       "Abreuvoirs                                1\n",
       "Dépendances de monument historique        1\n",
       "Eucalyptus                                1\n",
       "Source                                    1\n",
       "Tamarin                                   1\n",
       "Name: nature_culture_speciale, Length: 120, dtype: int64"
      ]
     },
     "execution_count": 5,
     "metadata": {},
     "output_type": "execute_result"
    }
   ],
   "source": [
    "df.nature_culture_speciale.value_counts()"
   ]
  },
  {
   "cell_type": "code",
   "execution_count": 6,
   "id": "48aeba53",
   "metadata": {},
   "outputs": [],
   "source": [
    "df.adresse_code_voie=df.adresse_code_voie.astype(str)\n",
    "df.code_commune=df.code_commune.astype(str)\n",
    "df.code_departement=df.code_departement.astype(str)\n",
    "df.numero_volume=df.numero_volume.astype(str)\n",
    "df.lot1_numero=df.lot1_numero.astype(str)\n",
    "df.lot2_numero=df.lot2_numero.astype(str)\n",
    "df.lot3_numero=df.lot3_numero.astype(str)\n",
    "df.lot4_numero=df.lot4_numero.astype(str)\n",
    "df.lot5_numero=df.lot5_numero.astype(str)\n",
    "df.date_mutation = pd.to_datetime(df.date_mutation)"
   ]
  },
  {
   "cell_type": "code",
   "execution_count": 7,
   "id": "7226d8da",
   "metadata": {},
   "outputs": [],
   "source": [
    "df.index = df.date_mutation"
   ]
  },
  {
   "cell_type": "code",
   "execution_count": 8,
   "id": "aead308c",
   "metadata": {},
   "outputs": [
    {
     "data": {
      "text/html": [
       "<div>\n",
       "<style scoped>\n",
       "    .dataframe tbody tr th:only-of-type {\n",
       "        vertical-align: middle;\n",
       "    }\n",
       "\n",
       "    .dataframe tbody tr th {\n",
       "        vertical-align: top;\n",
       "    }\n",
       "\n",
       "    .dataframe thead th {\n",
       "        text-align: right;\n",
       "    }\n",
       "</style>\n",
       "<table border=\"1\" class=\"dataframe\">\n",
       "  <thead>\n",
       "    <tr style=\"text-align: right;\">\n",
       "      <th></th>\n",
       "      <th>latitude</th>\n",
       "      <th>longitude</th>\n",
       "    </tr>\n",
       "    <tr>\n",
       "      <th>date_mutation</th>\n",
       "      <th></th>\n",
       "      <th></th>\n",
       "    </tr>\n",
       "  </thead>\n",
       "  <tbody>\n",
       "    <tr>\n",
       "      <th>2020-12-02</th>\n",
       "      <td>46.349690</td>\n",
       "      <td>6.133268</td>\n",
       "    </tr>\n",
       "    <tr>\n",
       "      <th>2020-12-02</th>\n",
       "      <td>46.178537</td>\n",
       "      <td>5.738449</td>\n",
       "    </tr>\n",
       "    <tr>\n",
       "      <th>2020-12-07</th>\n",
       "      <td>45.803695</td>\n",
       "      <td>5.445676</td>\n",
       "    </tr>\n",
       "    <tr>\n",
       "      <th>2020-12-02</th>\n",
       "      <td>46.370306</td>\n",
       "      <td>6.150213</td>\n",
       "    </tr>\n",
       "    <tr>\n",
       "      <th>2020-12-02</th>\n",
       "      <td>46.370306</td>\n",
       "      <td>6.150213</td>\n",
       "    </tr>\n",
       "    <tr>\n",
       "      <th>...</th>\n",
       "      <td>...</td>\n",
       "      <td>...</td>\n",
       "    </tr>\n",
       "    <tr>\n",
       "      <th>2020-12-16</th>\n",
       "      <td>48.854293</td>\n",
       "      <td>2.350481</td>\n",
       "    </tr>\n",
       "    <tr>\n",
       "      <th>2020-12-16</th>\n",
       "      <td>48.854293</td>\n",
       "      <td>2.350481</td>\n",
       "    </tr>\n",
       "    <tr>\n",
       "      <th>2020-12-16</th>\n",
       "      <td>48.854293</td>\n",
       "      <td>2.350481</td>\n",
       "    </tr>\n",
       "    <tr>\n",
       "      <th>2020-12-16</th>\n",
       "      <td>48.854293</td>\n",
       "      <td>2.350481</td>\n",
       "    </tr>\n",
       "    <tr>\n",
       "      <th>2020-12-16</th>\n",
       "      <td>48.854293</td>\n",
       "      <td>2.350481</td>\n",
       "    </tr>\n",
       "  </tbody>\n",
       "</table>\n",
       "<p>218051 rows × 2 columns</p>\n",
       "</div>"
      ],
      "text/plain": [
       "                latitude  longitude\n",
       "date_mutation                      \n",
       "2020-12-02     46.349690   6.133268\n",
       "2020-12-02     46.178537   5.738449\n",
       "2020-12-07     45.803695   5.445676\n",
       "2020-12-02     46.370306   6.150213\n",
       "2020-12-02     46.370306   6.150213\n",
       "...                  ...        ...\n",
       "2020-12-16     48.854293   2.350481\n",
       "2020-12-16     48.854293   2.350481\n",
       "2020-12-16     48.854293   2.350481\n",
       "2020-12-16     48.854293   2.350481\n",
       "2020-12-16     48.854293   2.350481\n",
       "\n",
       "[218051 rows x 2 columns]"
      ]
     },
     "execution_count": 8,
     "metadata": {},
     "output_type": "execute_result"
    }
   ],
   "source": [
    "m=12\n",
    "i = df[[\"valeur_fonciere\",\"latitude\",\"longitude\"]]\n",
    "i = i.loc[f\"2020-{m}\",:]\n",
    "i[~(i.latitude.isna() & i.longitude.isna())][[\"latitude\",\"longitude\"]]"
   ]
  },
  {
   "cell_type": "code",
   "execution_count": 17,
   "id": "967e24a7",
   "metadata": {},
   "outputs": [
    {
     "data": {
      "text/plain": [
       "<AxesSubplot:xlabel='date_mutation'>"
      ]
     },
     "execution_count": 17,
     "metadata": {},
     "output_type": "execute_result"
    },
    {
     "data": {
      "image/png": "[encoded data removed]",
      "text/plain": [
       "<Figure size 600x400 with 1 Axes>"
      ]
     },
     "metadata": {},
     "output_type": "display_data"
    }
   ],
   "source": [
    "df.loc[:,\"valeur_fonciere\"].resample(\"M\").mean().plot()"
   ]
  },
  {
   "cell_type": "code",
   "execution_count": 10,
   "id": "b202e995",
   "metadata": {},
   "outputs": [
    {
     "name": "stderr",
     "output_type": "stream",
     "text": [
      "Done! Use 'show' commands to display/save.   |██████████| [100%]   00:01 -> (00:00 left)\n"
     ]
    },
    {
     "name": "stdout",
     "output_type": "stream",
     "text": [
      "Report SWEETVIZ_REPORT.html was generated! NOTEBOOK/COLAB USERS: the web browser MAY not pop up, regardless, the report IS saved in your notebook/colab files.\n"
     ]
    }
   ],
   "source": [
    "sv_report = sv.analyze(df)\n",
    "sv_report.show_html()"
   ]
  },
  {
   "cell_type": "code",
   "execution_count": 11,
   "id": "844ecc47",
   "metadata": {},
   "outputs": [
    {
     "data": {
      "text/plain": [
       "1.0    528257\n",
       "2.0    402271\n",
       "3.0    298369\n",
       "4.0     86937\n",
       "Name: code_type_local, dtype: int64"
      ]
     },
     "execution_count": 11,
     "metadata": {},
     "output_type": "execute_result"
    }
   ],
   "source": [
    "df.code_type_local.value_counts()"
   ]
  },
  {
   "cell_type": "code",
   "execution_count": 12,
   "id": "4642c4c2",
   "metadata": {},
   "outputs": [
    {
     "data": {
      "text/plain": [
       "id_mutation           2459560\n",
       "date_mutation         2459560\n",
       "numero_disposition    2459560\n",
       "nature_mutation       2459560\n",
       "valeur_fonciere       2427808\n",
       "adresse_nom_voie      2428437\n",
       "adresse_code_voie     2459560\n",
       "code_postal           2428568\n",
       "code_commune          2459560\n",
       "nom_commune           2459560\n",
       "code_departement      2459560\n",
       "id_parcelle           2459560\n",
       "numero_volume         2459560\n",
       "lot1_numero           2459560\n",
       "lot2_numero           2459560\n",
       "lot3_numero           2459560\n",
       "lot4_numero           2459560\n",
       "lot5_numero           2459560\n",
       "nombre_lots           2459560\n",
       "longitude             2429477\n",
       "latitude              2429477\n",
       "dtype: int64"
      ]
     },
     "execution_count": 12,
     "metadata": {},
     "output_type": "execute_result"
    }
   ],
   "source": [
    "a=df.count()\n",
    "a[a >= .8*df.shape[0]]"
   ]
  },
  {
   "cell_type": "markdown",
   "id": "988a899e",
   "metadata": {},
   "source": [
    "# Data Visualization"
   ]
  },
  {
   "cell_type": "code",
   "execution_count": 13,
   "id": "3015ae72",
   "metadata": {},
   "outputs": [],
   "source": [
    "# Communes with the highest number of transactions\n",
    "a = df[[\"id_mutation\", \"nom_commune\"]].groupby(\"nom_commune\").count()"
   ]
  },
  {
   "cell_type": "code",
   "execution_count": 14,
   "id": "68760962",
   "metadata": {},
   "outputs": [
    {
     "data": {
      "text/html": [
       "<div>\n",
       "<style scoped>\n",
       "    .dataframe tbody tr th:only-of-type {\n",
       "        vertical-align: middle;\n",
       "    }\n",
       "\n",
       "    .dataframe tbody tr th {\n",
       "        vertical-align: top;\n",
       "    }\n",
       "\n",
       "    .dataframe thead th {\n",
       "        text-align: right;\n",
       "    }\n",
       "</style>\n",
       "<table border=\"1\" class=\"dataframe\">\n",
       "  <thead>\n",
       "    <tr style=\"text-align: right;\">\n",
       "      <th></th>\n",
       "      <th>nom_commune</th>\n",
       "      <th>id_mutation</th>\n",
       "    </tr>\n",
       "  </thead>\n",
       "  <tbody>\n",
       "    <tr>\n",
       "      <th>0</th>\n",
       "      <td>Nice</td>\n",
       "      <td>17756</td>\n",
       "    </tr>\n",
       "    <tr>\n",
       "      <th>1</th>\n",
       "      <td>Nantes</td>\n",
       "      <td>14715</td>\n",
       "    </tr>\n",
       "    <tr>\n",
       "      <th>2</th>\n",
       "      <td>Bordeaux</td>\n",
       "      <td>12847</td>\n",
       "    </tr>\n",
       "    <tr>\n",
       "      <th>3</th>\n",
       "      <td>Lille</td>\n",
       "      <td>10628</td>\n",
       "    </tr>\n",
       "    <tr>\n",
       "      <th>4</th>\n",
       "      <td>Rennes</td>\n",
       "      <td>9721</td>\n",
       "    </tr>\n",
       "    <tr>\n",
       "      <th>5</th>\n",
       "      <td>Toulouse</td>\n",
       "      <td>8854</td>\n",
       "    </tr>\n",
       "    <tr>\n",
       "      <th>6</th>\n",
       "      <td>Nîmes</td>\n",
       "      <td>8571</td>\n",
       "    </tr>\n",
       "    <tr>\n",
       "      <th>7</th>\n",
       "      <td>Saint-Étienne</td>\n",
       "      <td>7400</td>\n",
       "    </tr>\n",
       "    <tr>\n",
       "      <th>8</th>\n",
       "      <td>Reims</td>\n",
       "      <td>7110</td>\n",
       "    </tr>\n",
       "    <tr>\n",
       "      <th>9</th>\n",
       "      <td>Angers</td>\n",
       "      <td>6642</td>\n",
       "    </tr>\n",
       "    <tr>\n",
       "      <th>10</th>\n",
       "      <td>Nancy</td>\n",
       "      <td>6502</td>\n",
       "    </tr>\n",
       "    <tr>\n",
       "      <th>11</th>\n",
       "      <td>Le Havre</td>\n",
       "      <td>6490</td>\n",
       "    </tr>\n",
       "    <tr>\n",
       "      <th>12</th>\n",
       "      <td>Le Mans</td>\n",
       "      <td>6355</td>\n",
       "    </tr>\n",
       "    <tr>\n",
       "      <th>13</th>\n",
       "      <td>Paris 16e Arrondissement</td>\n",
       "      <td>5408</td>\n",
       "    </tr>\n",
       "    <tr>\n",
       "      <th>14</th>\n",
       "      <td>Limoges</td>\n",
       "      <td>5292</td>\n",
       "    </tr>\n",
       "  </tbody>\n",
       "</table>\n",
       "</div>"
      ],
      "text/plain": [
       "                 nom_commune  id_mutation\n",
       "0                       Nice        17756\n",
       "1                     Nantes        14715\n",
       "2                   Bordeaux        12847\n",
       "3                      Lille        10628\n",
       "4                     Rennes         9721\n",
       "5                   Toulouse         8854\n",
       "6                      Nîmes         8571\n",
       "7              Saint-Étienne         7400\n",
       "8                      Reims         7110\n",
       "9                     Angers         6642\n",
       "10                     Nancy         6502\n",
       "11                  Le Havre         6490\n",
       "12                   Le Mans         6355\n",
       "13  Paris 16e Arrondissement         5408\n",
       "14                   Limoges         5292"
      ]
     },
     "execution_count": 14,
     "metadata": {},
     "output_type": "execute_result"
    }
   ],
   "source": [
    "a= a.sort_values(by=\"id_mutation\", ascending=False)[:15]\n",
    "a = pd.DataFrame({\"nom_commune\": a.index.values, \"id_mutation\": a.id_mutation.values})\n",
    "a"
   ]
  },
  {
   "cell_type": "code",
   "execution_count": 15,
   "id": "ebd64ca3",
   "metadata": {},
   "outputs": [
    {
     "data": {
      "text/html": [
       "<div>\n",
       "<style scoped>\n",
       "    .dataframe tbody tr th:only-of-type {\n",
       "        vertical-align: middle;\n",
       "    }\n",
       "\n",
       "    .dataframe tbody tr th {\n",
       "        vertical-align: top;\n",
       "    }\n",
       "\n",
       "    .dataframe thead th {\n",
       "        text-align: right;\n",
       "    }\n",
       "</style>\n",
       "<table border=\"1\" class=\"dataframe\">\n",
       "  <thead>\n",
       "    <tr style=\"text-align: right;\">\n",
       "      <th></th>\n",
       "      <th>latitude</th>\n",
       "      <th>longitude</th>\n",
       "    </tr>\n",
       "    <tr>\n",
       "      <th>date_mutation</th>\n",
       "      <th></th>\n",
       "      <th></th>\n",
       "    </tr>\n",
       "  </thead>\n",
       "  <tbody>\n",
       "    <tr>\n",
       "      <th>2020-01-07</th>\n",
       "      <td>46.171919</td>\n",
       "      <td>5.323540</td>\n",
       "    </tr>\n",
       "    <tr>\n",
       "      <th>2020-01-02</th>\n",
       "      <td>46.251868</td>\n",
       "      <td>4.893436</td>\n",
       "    </tr>\n",
       "    <tr>\n",
       "      <th>2020-01-02</th>\n",
       "      <td>46.235327</td>\n",
       "      <td>4.899919</td>\n",
       "    </tr>\n",
       "    <tr>\n",
       "      <th>2020-01-02</th>\n",
       "      <td>46.246519</td>\n",
       "      <td>4.882347</td>\n",
       "    </tr>\n",
       "    <tr>\n",
       "      <th>2020-01-02</th>\n",
       "      <td>46.251820</td>\n",
       "      <td>4.894688</td>\n",
       "    </tr>\n",
       "    <tr>\n",
       "      <th>...</th>\n",
       "      <td>...</td>\n",
       "      <td>...</td>\n",
       "    </tr>\n",
       "    <tr>\n",
       "      <th>2020-12-16</th>\n",
       "      <td>48.854293</td>\n",
       "      <td>2.350481</td>\n",
       "    </tr>\n",
       "    <tr>\n",
       "      <th>2020-12-16</th>\n",
       "      <td>48.854293</td>\n",
       "      <td>2.350481</td>\n",
       "    </tr>\n",
       "    <tr>\n",
       "      <th>2020-12-16</th>\n",
       "      <td>48.854293</td>\n",
       "      <td>2.350481</td>\n",
       "    </tr>\n",
       "    <tr>\n",
       "      <th>2020-12-16</th>\n",
       "      <td>48.854293</td>\n",
       "      <td>2.350481</td>\n",
       "    </tr>\n",
       "    <tr>\n",
       "      <th>2020-10-08</th>\n",
       "      <td>48.865935</td>\n",
       "      <td>2.348149</td>\n",
       "    </tr>\n",
       "  </tbody>\n",
       "</table>\n",
       "<p>2429477 rows × 2 columns</p>\n",
       "</div>"
      ],
      "text/plain": [
       "                latitude  longitude\n",
       "date_mutation                      \n",
       "2020-01-07     46.171919   5.323540\n",
       "2020-01-02     46.251868   4.893436\n",
       "2020-01-02     46.235327   4.899919\n",
       "2020-01-02     46.246519   4.882347\n",
       "2020-01-02     46.251820   4.894688\n",
       "...                  ...        ...\n",
       "2020-12-16     48.854293   2.350481\n",
       "2020-12-16     48.854293   2.350481\n",
       "2020-12-16     48.854293   2.350481\n",
       "2020-12-16     48.854293   2.350481\n",
       "2020-10-08     48.865935   2.348149\n",
       "\n",
       "[2429477 rows x 2 columns]"
      ]
     },
     "execution_count": 15,
     "metadata": {},
     "output_type": "execute_result"
    }
   ],
   "source": [
    "a = df[[\"latitude\",\"longitude\"]]\n",
    "a[~(a.latitude.isna() & a.longitude.isna())]"
   ]
  },
  {
   "cell_type": "markdown",
   "id": "a59a5622",
   "metadata": {},
   "source": [
    "# Performing cross analysis"
   ]
  },
  {
   "cell_type": "code",
   "execution_count": 16,
   "id": "5e6343ce",
   "metadata": {},
   "outputs": [
    {
     "data": {
      "text/plain": [
       "2429477"
      ]
     },
     "execution_count": 16,
     "metadata": {},
     "output_type": "execute_result"
    }
   ],
   "source": [
    "len(df)-30083"
   ]
  },
  {
   "cell_type": "markdown",
   "id": "7f5b2e21",
   "metadata": {},
   "source": []
  },
  {
   "cell_type": "markdown",
   "id": "a28041a6",
   "metadata": {},
   "source": []
  }
 ],
 "metadata": {
  "interpreter": {
   "hash": "916dbcbb3f70747c44a77c7bcd40155683ae19c65e1c03b4aa3499c5328201f1"
  },
  "kernelspec": {
   "display_name": "Python 3 (ipykernel)",
   "language": "python",
   "name": "python3"
  },
  "language_info": {
   "codemirror_mode": {
    "name": "ipython",
    "version": 3
   },
   "file_extension": ".py",
   "mimetype": "text/x-python",
   "name": "python",
   "nbconvert_exporter": "python",
   "pygments_lexer": "ipython3",
   "version": "3.8.10"
  }
 },
 "nbformat": 4,
 "nbformat_minor": 5
}
